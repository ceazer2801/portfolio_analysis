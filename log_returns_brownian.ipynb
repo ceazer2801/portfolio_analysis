{
 "cells": [
  {
   "cell_type": "code",
   "execution_count": 94,
   "metadata": {},
   "outputs": [],
   "source": [
    " # Import libraries and dependencies\n",
    "import numpy as np\n",
    "import pandas as pd\n",
    "from datetime import datetime, timedelta\n",
    "from iexfinance.stocks import get_historical_data\n",
    "from iexfinance.refdata import get_symbols\n",
    "import matplotlib.pyplot as plt\n",
    "%matplotlib inline\n",
    "\n"
   ]
  },
  {
   "cell_type": "code",
   "execution_count": 95,
   "metadata": {},
   "outputs": [],
   "source": [
    "ticker = 'VOO'\n"
   ]
  },
  {
   "cell_type": "code",
   "execution_count": 96,
   "metadata": {},
   "outputs": [
    {
     "data": {
      "text/html": [
       "<div>\n",
       "<style scoped>\n",
       "    .dataframe tbody tr th:only-of-type {\n",
       "        vertical-align: middle;\n",
       "    }\n",
       "\n",
       "    .dataframe tbody tr th {\n",
       "        vertical-align: top;\n",
       "    }\n",
       "\n",
       "    .dataframe thead th {\n",
       "        text-align: right;\n",
       "    }\n",
       "</style>\n",
       "<table border=\"1\" class=\"dataframe\">\n",
       "  <thead>\n",
       "    <tr style=\"text-align: right;\">\n",
       "      <th></th>\n",
       "      <th>open</th>\n",
       "      <th>high</th>\n",
       "      <th>low</th>\n",
       "      <th>close</th>\n",
       "      <th>volume</th>\n",
       "    </tr>\n",
       "    <tr>\n",
       "      <th>date</th>\n",
       "      <th></th>\n",
       "      <th></th>\n",
       "      <th></th>\n",
       "      <th></th>\n",
       "      <th></th>\n",
       "    </tr>\n",
       "  </thead>\n",
       "  <tbody>\n",
       "    <tr>\n",
       "      <td>2019-09-10</td>\n",
       "      <td>273.11</td>\n",
       "      <td>273.88</td>\n",
       "      <td>271.87</td>\n",
       "      <td>273.87</td>\n",
       "      <td>1870384</td>\n",
       "    </tr>\n",
       "    <tr>\n",
       "      <td>2019-09-11</td>\n",
       "      <td>274.15</td>\n",
       "      <td>275.84</td>\n",
       "      <td>273.50</td>\n",
       "      <td>275.84</td>\n",
       "      <td>2080323</td>\n",
       "    </tr>\n",
       "    <tr>\n",
       "      <td>2019-09-12</td>\n",
       "      <td>276.71</td>\n",
       "      <td>277.80</td>\n",
       "      <td>275.94</td>\n",
       "      <td>276.65</td>\n",
       "      <td>2433713</td>\n",
       "    </tr>\n",
       "    <tr>\n",
       "      <td>2019-09-13</td>\n",
       "      <td>277.21</td>\n",
       "      <td>277.54</td>\n",
       "      <td>276.15</td>\n",
       "      <td>276.58</td>\n",
       "      <td>2292208</td>\n",
       "    </tr>\n",
       "    <tr>\n",
       "      <td>2019-09-16</td>\n",
       "      <td>275.38</td>\n",
       "      <td>276.10</td>\n",
       "      <td>275.04</td>\n",
       "      <td>275.67</td>\n",
       "      <td>1432383</td>\n",
       "    </tr>\n",
       "  </tbody>\n",
       "</table>\n",
       "</div>"
      ],
      "text/plain": [
       "              open    high     low   close   volume\n",
       "date                                               \n",
       "2019-09-10  273.11  273.88  271.87  273.87  1870384\n",
       "2019-09-11  274.15  275.84  273.50  275.84  2080323\n",
       "2019-09-12  276.71  277.80  275.94  276.65  2433713\n",
       "2019-09-13  277.21  277.54  276.15  276.58  2292208\n",
       "2019-09-16  275.38  276.10  275.04  275.67  1432383"
      ]
     },
     "execution_count": 96,
     "metadata": {},
     "output_type": "execute_result"
    }
   ],
   "source": [
    "end_date = datetime.now()\n",
    "start_date = end_date + timedelta(-365)\n",
    "\n",
    "# Get 1 year's worth of historical data for AAPL\n",
    "df = get_historical_data(ticker, start_date, end_date,  output_format='pandas')\n",
    "df.tail()"
   ]
  },
  {
   "cell_type": "code",
   "execution_count": 97,
   "metadata": {},
   "outputs": [
    {
     "data": {
      "text/html": [
       "<div>\n",
       "<style scoped>\n",
       "    .dataframe tbody tr th:only-of-type {\n",
       "        vertical-align: middle;\n",
       "    }\n",
       "\n",
       "    .dataframe tbody tr th {\n",
       "        vertical-align: top;\n",
       "    }\n",
       "\n",
       "    .dataframe thead th {\n",
       "        text-align: right;\n",
       "    }\n",
       "</style>\n",
       "<table border=\"1\" class=\"dataframe\">\n",
       "  <thead>\n",
       "    <tr style=\"text-align: right;\">\n",
       "      <th></th>\n",
       "      <th>close</th>\n",
       "    </tr>\n",
       "    <tr>\n",
       "      <th>date</th>\n",
       "      <th></th>\n",
       "    </tr>\n",
       "  </thead>\n",
       "  <tbody>\n",
       "    <tr>\n",
       "      <td>2018-09-17</td>\n",
       "      <td>265.85</td>\n",
       "    </tr>\n",
       "    <tr>\n",
       "      <td>2018-09-18</td>\n",
       "      <td>267.30</td>\n",
       "    </tr>\n",
       "    <tr>\n",
       "      <td>2018-09-19</td>\n",
       "      <td>267.60</td>\n",
       "    </tr>\n",
       "    <tr>\n",
       "      <td>2018-09-20</td>\n",
       "      <td>269.75</td>\n",
       "    </tr>\n",
       "    <tr>\n",
       "      <td>2018-09-21</td>\n",
       "      <td>269.56</td>\n",
       "    </tr>\n",
       "  </tbody>\n",
       "</table>\n",
       "</div>"
      ],
      "text/plain": [
       "             close\n",
       "date              \n",
       "2018-09-17  265.85\n",
       "2018-09-18  267.30\n",
       "2018-09-19  267.60\n",
       "2018-09-20  269.75\n",
       "2018-09-21  269.56"
      ]
     },
     "execution_count": 97,
     "metadata": {},
     "output_type": "execute_result"
    }
   ],
   "source": [
    " # Use the `drop` function with the `level` parameter to drop extra columns in the multi-index DataFrame\n",
    "df.drop(columns=['open', 'high', 'low', 'volume'], inplace=True)\n",
    "df.head()\n"
   ]
  },
  {
   "cell_type": "code",
   "execution_count": 98,
   "metadata": {},
   "outputs": [
    {
     "data": {
      "text/html": [
       "<div>\n",
       "<style scoped>\n",
       "    .dataframe tbody tr th:only-of-type {\n",
       "        vertical-align: middle;\n",
       "    }\n",
       "\n",
       "    .dataframe tbody tr th {\n",
       "        vertical-align: top;\n",
       "    }\n",
       "\n",
       "    .dataframe thead th {\n",
       "        text-align: right;\n",
       "    }\n",
       "</style>\n",
       "<table border=\"1\" class=\"dataframe\">\n",
       "  <thead>\n",
       "    <tr style=\"text-align: right;\">\n",
       "      <th></th>\n",
       "      <th>close</th>\n",
       "    </tr>\n",
       "    <tr>\n",
       "      <th>date</th>\n",
       "      <th></th>\n",
       "    </tr>\n",
       "  </thead>\n",
       "  <tbody>\n",
       "    <tr>\n",
       "      <td>2018-09-18</td>\n",
       "      <td>0.005439</td>\n",
       "    </tr>\n",
       "    <tr>\n",
       "      <td>2018-09-19</td>\n",
       "      <td>0.001122</td>\n",
       "    </tr>\n",
       "    <tr>\n",
       "      <td>2018-09-20</td>\n",
       "      <td>0.008002</td>\n",
       "    </tr>\n",
       "    <tr>\n",
       "      <td>2018-09-21</td>\n",
       "      <td>-0.000705</td>\n",
       "    </tr>\n",
       "    <tr>\n",
       "      <td>2018-09-24</td>\n",
       "      <td>-0.003344</td>\n",
       "    </tr>\n",
       "    <tr>\n",
       "      <td>...</td>\n",
       "      <td>...</td>\n",
       "    </tr>\n",
       "    <tr>\n",
       "      <td>2019-09-10</td>\n",
       "      <td>0.000219</td>\n",
       "    </tr>\n",
       "    <tr>\n",
       "      <td>2019-09-11</td>\n",
       "      <td>0.007167</td>\n",
       "    </tr>\n",
       "    <tr>\n",
       "      <td>2019-09-12</td>\n",
       "      <td>0.002932</td>\n",
       "    </tr>\n",
       "    <tr>\n",
       "      <td>2019-09-13</td>\n",
       "      <td>-0.000253</td>\n",
       "    </tr>\n",
       "    <tr>\n",
       "      <td>2019-09-16</td>\n",
       "      <td>-0.003296</td>\n",
       "    </tr>\n",
       "  </tbody>\n",
       "</table>\n",
       "<p>250 rows × 1 columns</p>\n",
       "</div>"
      ],
      "text/plain": [
       "               close\n",
       "date                \n",
       "2018-09-18  0.005439\n",
       "2018-09-19  0.001122\n",
       "2018-09-20  0.008002\n",
       "2018-09-21 -0.000705\n",
       "2018-09-24 -0.003344\n",
       "...              ...\n",
       "2019-09-10  0.000219\n",
       "2019-09-11  0.007167\n",
       "2019-09-12  0.002932\n",
       "2019-09-13 -0.000253\n",
       "2019-09-16 -0.003296\n",
       "\n",
       "[250 rows x 1 columns]"
      ]
     },
     "execution_count": 98,
     "metadata": {},
     "output_type": "execute_result"
    }
   ],
   "source": [
    "daily_returns_df = df.pct_change()\n",
    "log_returns_df = np.log(1 + daily_returns_df).dropna()\n",
    "log_returns_df"
   ]
  },
  {
   "cell_type": "code",
   "execution_count": 123,
   "metadata": {},
   "outputs": [],
   "source": [
    "  \n",
    "def mcs_brownian (df, num_simulations):\n",
    "# Monte Carlo Simulation with Geometric Brownian Motion\n",
    "# simulated_price = previous_day_price * exp((daily_returns_mean - ((daily_std_mean**2)/2)) + (daily_std_mean * random_noise ))\n",
    "    \n",
    "    daily_returns_df = df.pct_change()\n",
    "    log_returns_df = np.log(1 + daily_returns_df).dropna()\n",
    "    log_returns_mean = log_returns_df.mean()['close']\n",
    "    log_returns_std_mean = log_returns_df.std()['close']\n",
    "    \n",
    "    simulations = num_simulations\n",
    "    trading_days = 7560\n",
    "    df_last_price = df['close'][-1]\n",
    "    timestep = 1\n",
    "    \n",
    "    simulated_price_df = pd.DataFrame()\n",
    "    portfolio_cumulative_returns = pd.DataFrame()\n",
    "    \n",
    "    for n in range(simulations):\n",
    "        \n",
    "        simulated_prices = [df_last_price]\n",
    "        \n",
    "        for i in range (trading_days):\n",
    "            drift = log_returns_mean - (0.5*log_returns_std_mean**2)*timestep\n",
    "            random_noise = np.random.normal()\n",
    "            diffusion = (log_returns_std_mean * random_noise * timestep**0.5)\n",
    "    \n",
    "            simulated_price = simulated_prices[-1] * np.exp(drift + diffusion)\n",
    "            simulated_prices.append(simulated_price)\n",
    "            \n",
    "        simulated_price_df = pd.Series(simulated_prices)\n",
    "        simulated_daily_returns = simulated_price_df.pct_change()\n",
    "\n",
    "        portfolio_cumulative_returns[n] = (1 + simulated_daily_returns.fillna(0)).cumprod()\n",
    "    return portfolio_cumulative_returns\n",
    "    "
   ]
  },
  {
   "cell_type": "code",
   "execution_count": 124,
   "metadata": {},
   "outputs": [],
   "source": [
    "simulated_df = mcs_brownian(df,100)"
   ]
  },
  {
   "cell_type": "code",
   "execution_count": 125,
   "metadata": {},
   "outputs": [
    {
     "data": {
      "text/html": [
       "<div>\n",
       "<style scoped>\n",
       "    .dataframe tbody tr th:only-of-type {\n",
       "        vertical-align: middle;\n",
       "    }\n",
       "\n",
       "    .dataframe tbody tr th {\n",
       "        vertical-align: top;\n",
       "    }\n",
       "\n",
       "    .dataframe thead th {\n",
       "        text-align: right;\n",
       "    }\n",
       "</style>\n",
       "<table border=\"1\" class=\"dataframe\">\n",
       "  <thead>\n",
       "    <tr style=\"text-align: right;\">\n",
       "      <th></th>\n",
       "      <th>0</th>\n",
       "      <th>1</th>\n",
       "      <th>2</th>\n",
       "      <th>3</th>\n",
       "      <th>4</th>\n",
       "      <th>5</th>\n",
       "      <th>6</th>\n",
       "      <th>7</th>\n",
       "      <th>8</th>\n",
       "      <th>9</th>\n",
       "      <th>...</th>\n",
       "      <th>90</th>\n",
       "      <th>91</th>\n",
       "      <th>92</th>\n",
       "      <th>93</th>\n",
       "      <th>94</th>\n",
       "      <th>95</th>\n",
       "      <th>96</th>\n",
       "      <th>97</th>\n",
       "      <th>98</th>\n",
       "      <th>99</th>\n",
       "    </tr>\n",
       "  </thead>\n",
       "  <tbody>\n",
       "    <tr>\n",
       "      <td>0</td>\n",
       "      <td>1.000000</td>\n",
       "      <td>1.000000</td>\n",
       "      <td>1.000000</td>\n",
       "      <td>1.000000</td>\n",
       "      <td>1.000000</td>\n",
       "      <td>1.000000</td>\n",
       "      <td>1.000000</td>\n",
       "      <td>1.000000</td>\n",
       "      <td>1.000000</td>\n",
       "      <td>1.000000</td>\n",
       "      <td>...</td>\n",
       "      <td>1.000000</td>\n",
       "      <td>1.000000</td>\n",
       "      <td>1.000000</td>\n",
       "      <td>1.000000</td>\n",
       "      <td>1.000000</td>\n",
       "      <td>1.000000</td>\n",
       "      <td>1.000000</td>\n",
       "      <td>1.000000</td>\n",
       "      <td>1.000000</td>\n",
       "      <td>1.000000</td>\n",
       "    </tr>\n",
       "    <tr>\n",
       "      <td>1</td>\n",
       "      <td>1.005174</td>\n",
       "      <td>1.013112</td>\n",
       "      <td>1.012397</td>\n",
       "      <td>1.005112</td>\n",
       "      <td>0.999068</td>\n",
       "      <td>0.988802</td>\n",
       "      <td>0.986502</td>\n",
       "      <td>0.974120</td>\n",
       "      <td>1.022761</td>\n",
       "      <td>0.994039</td>\n",
       "      <td>...</td>\n",
       "      <td>0.999748</td>\n",
       "      <td>1.014285</td>\n",
       "      <td>0.997415</td>\n",
       "      <td>1.004882</td>\n",
       "      <td>1.012017</td>\n",
       "      <td>0.972724</td>\n",
       "      <td>0.987601</td>\n",
       "      <td>1.001406</td>\n",
       "      <td>1.010513</td>\n",
       "      <td>0.977435</td>\n",
       "    </tr>\n",
       "    <tr>\n",
       "      <td>2</td>\n",
       "      <td>1.008578</td>\n",
       "      <td>1.001173</td>\n",
       "      <td>1.016481</td>\n",
       "      <td>1.005204</td>\n",
       "      <td>1.002453</td>\n",
       "      <td>1.005887</td>\n",
       "      <td>0.974608</td>\n",
       "      <td>0.977738</td>\n",
       "      <td>1.034533</td>\n",
       "      <td>0.988524</td>\n",
       "      <td>...</td>\n",
       "      <td>0.988995</td>\n",
       "      <td>1.014854</td>\n",
       "      <td>0.997045</td>\n",
       "      <td>1.010197</td>\n",
       "      <td>1.012841</td>\n",
       "      <td>0.968257</td>\n",
       "      <td>0.990909</td>\n",
       "      <td>0.990896</td>\n",
       "      <td>1.031486</td>\n",
       "      <td>0.987253</td>\n",
       "    </tr>\n",
       "    <tr>\n",
       "      <td>3</td>\n",
       "      <td>1.016360</td>\n",
       "      <td>1.001361</td>\n",
       "      <td>0.992178</td>\n",
       "      <td>1.003969</td>\n",
       "      <td>1.001915</td>\n",
       "      <td>1.001498</td>\n",
       "      <td>0.959149</td>\n",
       "      <td>0.987220</td>\n",
       "      <td>1.017673</td>\n",
       "      <td>0.971617</td>\n",
       "      <td>...</td>\n",
       "      <td>0.980705</td>\n",
       "      <td>1.029595</td>\n",
       "      <td>0.979169</td>\n",
       "      <td>1.008436</td>\n",
       "      <td>1.010987</td>\n",
       "      <td>0.953473</td>\n",
       "      <td>1.005034</td>\n",
       "      <td>0.988184</td>\n",
       "      <td>1.012237</td>\n",
       "      <td>0.989864</td>\n",
       "    </tr>\n",
       "    <tr>\n",
       "      <td>4</td>\n",
       "      <td>1.005077</td>\n",
       "      <td>1.009210</td>\n",
       "      <td>0.998226</td>\n",
       "      <td>0.983194</td>\n",
       "      <td>0.992059</td>\n",
       "      <td>1.022544</td>\n",
       "      <td>0.954286</td>\n",
       "      <td>0.985184</td>\n",
       "      <td>1.002344</td>\n",
       "      <td>0.948944</td>\n",
       "      <td>...</td>\n",
       "      <td>0.996353</td>\n",
       "      <td>1.018366</td>\n",
       "      <td>0.973284</td>\n",
       "      <td>1.002267</td>\n",
       "      <td>1.016015</td>\n",
       "      <td>0.976085</td>\n",
       "      <td>1.004784</td>\n",
       "      <td>0.995171</td>\n",
       "      <td>0.997833</td>\n",
       "      <td>0.996722</td>\n",
       "    </tr>\n",
       "  </tbody>\n",
       "</table>\n",
       "<p>5 rows × 100 columns</p>\n",
       "</div>"
      ],
      "text/plain": [
       "         0         1         2         3         4         5         6   \\\n",
       "0  1.000000  1.000000  1.000000  1.000000  1.000000  1.000000  1.000000   \n",
       "1  1.005174  1.013112  1.012397  1.005112  0.999068  0.988802  0.986502   \n",
       "2  1.008578  1.001173  1.016481  1.005204  1.002453  1.005887  0.974608   \n",
       "3  1.016360  1.001361  0.992178  1.003969  1.001915  1.001498  0.959149   \n",
       "4  1.005077  1.009210  0.998226  0.983194  0.992059  1.022544  0.954286   \n",
       "\n",
       "         7         8         9   ...        90        91        92        93  \\\n",
       "0  1.000000  1.000000  1.000000  ...  1.000000  1.000000  1.000000  1.000000   \n",
       "1  0.974120  1.022761  0.994039  ...  0.999748  1.014285  0.997415  1.004882   \n",
       "2  0.977738  1.034533  0.988524  ...  0.988995  1.014854  0.997045  1.010197   \n",
       "3  0.987220  1.017673  0.971617  ...  0.980705  1.029595  0.979169  1.008436   \n",
       "4  0.985184  1.002344  0.948944  ...  0.996353  1.018366  0.973284  1.002267   \n",
       "\n",
       "         94        95        96        97        98        99  \n",
       "0  1.000000  1.000000  1.000000  1.000000  1.000000  1.000000  \n",
       "1  1.012017  0.972724  0.987601  1.001406  1.010513  0.977435  \n",
       "2  1.012841  0.968257  0.990909  0.990896  1.031486  0.987253  \n",
       "3  1.010987  0.953473  1.005034  0.988184  1.012237  0.989864  \n",
       "4  1.016015  0.976085  1.004784  0.995171  0.997833  0.996722  \n",
       "\n",
       "[5 rows x 100 columns]"
      ]
     },
     "execution_count": 125,
     "metadata": {},
     "output_type": "execute_result"
    }
   ],
   "source": [
    "simulated_df.head()\n"
   ]
  },
  {
   "cell_type": "code",
   "execution_count": 126,
   "metadata": {},
   "outputs": [
    {
     "data": {
      "text/plain": [
       "<matplotlib.axes._subplots.AxesSubplot at 0x16219d4fdd8>"
      ]
     },
     "execution_count": 126,
     "metadata": {},
     "output_type": "execute_result"
    },
    {
     "data": {
      "image/png": "[encoded data removed]",
      "text/plain": [
       "<Figure size 432x288 with 1 Axes>"
      ]
     },
     "metadata": {
      "needs_background": "light"
     },
     "output_type": "display_data"
    }
   ],
   "source": [
    "simulated_df.plot(legend=None)"
   ]
  },
  {
   "cell_type": "code",
   "execution_count": 127,
   "metadata": {},
   "outputs": [
    {
     "data": {
      "text/plain": [
       "0    1.564345\n",
       "1    1.763724\n",
       "2    1.144929\n",
       "3    1.397397\n",
       "4    0.738887\n",
       "Name: 7560, dtype: float64"
      ]
     },
     "execution_count": 127,
     "metadata": {},
     "output_type": "execute_result"
    }
   ],
   "source": [
    "ending_returns_simulated_df = simulated_df.iloc[-1, :]\n",
    "ending_returns_simulated_df.head()"
   ]
  },
  {
   "cell_type": "code",
   "execution_count": 128,
   "metadata": {},
   "outputs": [
    {
     "data": {
      "text/plain": [
       "0.025     0.330053\n",
       "0.975    11.051502\n",
       "Name: 7560, dtype: float64"
      ]
     },
     "execution_count": 128,
     "metadata": {},
     "output_type": "execute_result"
    }
   ],
   "source": [
    "confidence_interval = ending_returns_simulated_df.quantile(q=[0.025, 0.975])\n",
    "confidence_interval"
   ]
  },
  {
   "cell_type": "code",
   "execution_count": 129,
   "metadata": {},
   "outputs": [
    {
     "data": {
      "text/plain": [
       "<matplotlib.lines.Line2D at 0x16219aa0828>"
      ]
     },
     "execution_count": 129,
     "metadata": {},
     "output_type": "execute_result"
    },
    {
     "data": {
      "image/png": "[encoded data removed]",
      "text/plain": [
       "<Figure size 432x288 with 1 Axes>"
      ]
     },
     "metadata": {
      "needs_background": "light"
     },
     "output_type": "display_data"
    }
   ],
   "source": [
    "plt.figure();\n",
    "ending_returns_simulated_df.plot(kind='hist', density=True, bins=10)\n",
    "plt.axvline(confidence_interval.iloc[0], color='r')\n",
    "plt.axvline(confidence_interval.iloc[1], color='r')"
   ]
  },
  {
   "cell_type": "code",
   "execution_count": null,
   "metadata": {},
   "outputs": [],
   "source": []
  }
 ],
 "metadata": {
  "kernelspec": {
   "display_name": "Python 3",
   "language": "python",
   "name": "python3"
  },
  "language_info": {
   "codemirror_mode": {
    "name": "ipython",
    "version": 3
   },
   "file_extension": ".py",
   "mimetype": "text/x-python",
   "name": "python",
   "nbconvert_exporter": "python",
   "pygments_lexer": "ipython3",
   "version": "3.7.3"
  }
 },
 "nbformat": 4,
 "nbformat_minor": 4
}
