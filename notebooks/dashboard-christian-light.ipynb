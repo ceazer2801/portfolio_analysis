{
 "cells": [
  {
   "cell_type": "code",
   "execution_count": 12,
   "metadata": {},
   "outputs": [],
   "source": [
    "import numpy as np\n",
    "import pandas as pd\n",
    "from datetime import datetime, timedelta\n",
    "import matplotlib.pyplot as plt\n",
    "%matplotlib inline\n",
    "import hvplot.pandas\n",
    "import montecarlo as mc\n",
    "import seaborn as sns\n",
    "import panel as pn\n",
    "import apis\n",
    "from panel.interact import interact\n",
    "import random\n",
    "from iexfinance.stocks import get_historical_data\n",
    "import iexfinance as iex\n",
    "from ta import *\n",
    "\n",
    "import os\n",
    "import json\n",
    "from urllib.request import Request, urlopen"
   ]
  },
  {
   "cell_type": "code",
   "execution_count": 13,
   "metadata": {},
   "outputs": [],
   "source": [
    "tickers_dict = {\"index\":[\"VOO\"],\n",
    "                \"crypto\":['BTC', 'ETH', 'XRP']}\n",
    "years = 2\n",
    "data_start_date = datetime.now() + timedelta(-365*years)"
   ]
  },
  {
   "cell_type": "code",
   "execution_count": 14,
   "metadata": {},
   "outputs": [
    {
     "ename": "AttributeError",
     "evalue": "module 'montecarlo' has no attribute 'get_historic_data'",
     "output_type": "error",
     "traceback": [
      "\u001b[1;31m---------------------------------------------------------------------------\u001b[0m",
      "\u001b[1;31mAttributeError\u001b[0m                            Traceback (most recent call last)",
      "\u001b[1;32m<ipython-input-14-4c5e8a82bda2>\u001b[0m in \u001b[0;36m<module>\u001b[1;34m\u001b[0m\n\u001b[1;32m----> 1\u001b[1;33m portfolio_hist_prices = mc.get_historic_data(ticker = tickers_dict[\"index\"], \n\u001b[0m\u001b[0;32m      2\u001b[0m                                              start_date = data_start_date)\n\u001b[0;32m      3\u001b[0m \u001b[1;31m#portfolio_hist_prices.head()\u001b[0m\u001b[1;33m\u001b[0m\u001b[1;33m\u001b[0m\u001b[1;33m\u001b[0m\u001b[0m\n",
      "\u001b[1;31mAttributeError\u001b[0m: module 'montecarlo' has no attribute 'get_historic_data'"
     ]
    }
   ],
   "source": [
    "portfolio_hist_prices = mc.get_historic_data(ticker = tickers_dict[\"index\"], \n",
    "                                             start_date = data_start_date)\n",
    "#portfolio_hist_prices.head()"
   ]
  },
  {
   "cell_type": "code",
   "execution_count": 15,
   "metadata": {},
   "outputs": [
    {
     "ename": "AttributeError",
     "evalue": "module 'montecarlo' has no attribute 'get_crypto_daily_price'",
     "output_type": "error",
     "traceback": [
      "\u001b[1;31m---------------------------------------------------------------------------\u001b[0m",
      "\u001b[1;31mAttributeError\u001b[0m                            Traceback (most recent call last)",
      "\u001b[1;32m<ipython-input-15-81f7c27aacf4>\u001b[0m in \u001b[0;36m<module>\u001b[1;34m\u001b[0m\n\u001b[1;32m----> 1\u001b[1;33m \u001b[0mbtc_daily_price\u001b[0m \u001b[1;33m=\u001b[0m \u001b[0mmc\u001b[0m\u001b[1;33m.\u001b[0m\u001b[0mget_crypto_daily_price\u001b[0m\u001b[1;33m(\u001b[0m\u001b[0mtickers_dict\u001b[0m\u001b[1;33m[\u001b[0m\u001b[1;34m\"crypto\"\u001b[0m\u001b[1;33m]\u001b[0m\u001b[1;33m,\u001b[0m\u001b[0mlimit\u001b[0m\u001b[1;33m=\u001b[0m\u001b[0myears\u001b[0m\u001b[1;33m*\u001b[0m\u001b[1;36m365\u001b[0m\u001b[1;33m)\u001b[0m\u001b[1;33m\u001b[0m\u001b[1;33m\u001b[0m\u001b[0m\n\u001b[0m\u001b[0;32m      2\u001b[0m \u001b[1;31m#btc_daily_price.head()\u001b[0m\u001b[1;33m\u001b[0m\u001b[1;33m\u001b[0m\u001b[1;33m\u001b[0m\u001b[0m\n",
      "\u001b[1;31mAttributeError\u001b[0m: module 'montecarlo' has no attribute 'get_crypto_daily_price'"
     ]
    }
   ],
   "source": [
    "btc_daily_price = mc.get_crypto_daily_price(tickers_dict[\"crypto\"],limit=years*365)\n",
    "#btc_daily_price.head()"
   ]
  },
  {
   "cell_type": "code",
   "execution_count": 16,
   "metadata": {},
   "outputs": [
    {
     "ename": "NameError",
     "evalue": "name 'portfolio_hist_prices' is not defined",
     "output_type": "error",
     "traceback": [
      "\u001b[1;31m---------------------------------------------------------------------------\u001b[0m",
      "\u001b[1;31mNameError\u001b[0m                                 Traceback (most recent call last)",
      "\u001b[1;32m<ipython-input-16-2c3532a9b709>\u001b[0m in \u001b[0;36m<module>\u001b[1;34m\u001b[0m\n\u001b[1;32m----> 1\u001b[1;33m \u001b[0mportfolio_hist_prices\u001b[0m \u001b[1;33m=\u001b[0m \u001b[0mpd\u001b[0m\u001b[1;33m.\u001b[0m\u001b[0mconcat\u001b[0m\u001b[1;33m(\u001b[0m\u001b[1;33m[\u001b[0m\u001b[0mportfolio_hist_prices\u001b[0m\u001b[1;33m,\u001b[0m\u001b[0mbtc_daily_price\u001b[0m\u001b[1;33m]\u001b[0m\u001b[1;33m,\u001b[0m\u001b[0maxis\u001b[0m\u001b[1;33m=\u001b[0m\u001b[1;36m1\u001b[0m\u001b[1;33m,\u001b[0m\u001b[0mjoin\u001b[0m\u001b[1;33m=\u001b[0m\u001b[1;34m\"inner\"\u001b[0m\u001b[1;33m)\u001b[0m\u001b[1;33m\u001b[0m\u001b[1;33m\u001b[0m\u001b[0m\n\u001b[0m\u001b[0;32m      2\u001b[0m \u001b[0mportfolio_hist_prices\u001b[0m\u001b[1;33m.\u001b[0m\u001b[0mdropna\u001b[0m\u001b[1;33m(\u001b[0m\u001b[0minplace\u001b[0m\u001b[1;33m=\u001b[0m\u001b[1;32mTrue\u001b[0m\u001b[1;33m)\u001b[0m\u001b[1;33m\u001b[0m\u001b[1;33m\u001b[0m\u001b[0m\n\u001b[0;32m      3\u001b[0m \u001b[0mportfolio_hist_prices\u001b[0m \u001b[1;33m=\u001b[0m \u001b[0mportfolio_hist_prices\u001b[0m\u001b[1;33m[\u001b[0m\u001b[1;33m(\u001b[0m\u001b[0mportfolio_hist_prices\u001b[0m\u001b[1;33m[\u001b[0m\u001b[0mportfolio_hist_prices\u001b[0m\u001b[1;33m.\u001b[0m\u001b[0mcolumns\u001b[0m\u001b[1;33m]\u001b[0m \u001b[1;33m!=\u001b[0m \u001b[1;36m0\u001b[0m\u001b[1;33m)\u001b[0m\u001b[1;33m.\u001b[0m\u001b[0mall\u001b[0m\u001b[1;33m(\u001b[0m\u001b[0maxis\u001b[0m\u001b[1;33m=\u001b[0m\u001b[1;36m1\u001b[0m\u001b[1;33m)\u001b[0m\u001b[1;33m]\u001b[0m\u001b[1;33m\u001b[0m\u001b[1;33m\u001b[0m\u001b[0m\n\u001b[0;32m      4\u001b[0m \u001b[1;31m#portfolio_hist_prices.head()\u001b[0m\u001b[1;33m\u001b[0m\u001b[1;33m\u001b[0m\u001b[1;33m\u001b[0m\u001b[0m\n",
      "\u001b[1;31mNameError\u001b[0m: name 'portfolio_hist_prices' is not defined"
     ]
    }
   ],
   "source": [
    "portfolio_hist_prices = pd.concat([portfolio_hist_prices,btc_daily_price],axis=1,join=\"inner\")\n",
    "portfolio_hist_prices.dropna(inplace=True)\n",
    "portfolio_hist_prices = portfolio_hist_prices[(portfolio_hist_prices[portfolio_hist_prices.columns] != 0).all(axis=1)]\n",
    "#portfolio_hist_prices.head()"
   ]
  },
  {
   "cell_type": "code",
   "execution_count": null,
   "metadata": {},
   "outputs": [],
   "source": [
    "portfolio_hist_prices = mc.normalize_dataframe(portfolio_hist_prices)\n",
    "portfolio_daily_retn = portfolio_hist_prices.pct_change().copy()\n",
    "\n",
    "#portfolio_daily_retn"
   ]
  },
  {
   "cell_type": "code",
   "execution_count": 4,
   "metadata": {},
   "outputs": [],
   "source": [
    "def corr_plot(portfolio_daily_retn):\n",
    "    \n",
    "    title_font = {'family': 'monospace',\n",
    "            'color':  'blue',\n",
    "            'weight': 'bold',\n",
    "            'size': 15,\n",
    "            }\n",
    "    correlated = portfolio_daily_retn.corr()\n",
    "    # Generate a mask for the upper triangle\n",
    "    mask = np.zeros_like(correlated, dtype=np.bool)\n",
    "    mask[np.triu_indices_from(mask)] = True\n",
    "    \n",
    "    # Set up the matplotlib figure\n",
    "    correlated_plot, ax = plt.subplots(figsize=(7,7))\n",
    "\n",
    "    # Draw the heatmap with the mask and correct aspect ratio\n",
    "    sns.heatmap(correlated, mask=mask, cmap=\"coolwarm\", vmax=1, vmin =-1, center=0,\n",
    "                square=True, linewidths=.5, annot=True\n",
    "                #cbar_kws={\"shrink\": .5}\n",
    "               )\n",
    "    plt.title(f\"Correlation Map of Portfolio\\n\",fontdict=title_font)\n",
    "    ax.set_facecolor(\"aliceblue\")\n",
    "    \n",
    "    #correlated_plot = sns.heatmap(correlated, vmin=-1, vmax=1, annot=True,cmap=\"coolwarm\") \n",
    "    plt.close()\n",
    "    return pn.Pane(correlated_plot)"
   ]
  },
  {
   "cell_type": "markdown",
   "metadata": {},
   "source": [
    "\n",
    "<script async type=\"text/javascript\" src=\"{{https://widgets.coingecko.com/coingecko-coin-price-marquee-widget.js}}\">\n",
    "</script>\n",
    "<coingecko-coin-price-marquee-widget  coin-ids=\"bitcoin,ethereum,litecoin,ripple,zcash\" currency=\"usd\" background-color=\"#ffffff\" locale=\"en\">\n",
    "</coingecko-coin-price-marquee-widget>\n"
   ]
  },
  {
   "cell_type": "code",
   "execution_count": 5,
   "metadata": {},
   "outputs": [],
   "source": [
    "def get_corr_pane(portfolio_daily_retn):\n",
    "    header_text = pn.panel(\n",
    "        \n",
    "    \"<marquee> <bold>The latest news on crypto and finance here:</bold>&nbsp;<mar> BTC up 20,000.00% in last year, 7.77% today,&nbsp;\"\n",
    "    +\" ETH up 400,000.00% in the last year, 9.99% today,&nbsp; \"\n",
    "    +\" Trump lost re-election due to poor results,&nbsp; Global peace achieved yesterday at UN,&nbsp; \"\n",
    "    +\" S&P500 down 10% in the last year, down 1.21%, today,&nbsp; \"\n",
    "    +\"cryptocurrencies are being used more than dollar for international trading,&nbsp; XRP up 27.89% today,&nbsp; \"\n",
    "    +\" Satoshi just gave away his millions of BTC to the most needed people in the developing world,&nbsp; \"\n",
    "    +\" military war on drugs has been replaced by an educational war \"\n",
    "    +\"on drugs and regulation of legal point of sales,&nbsp; drug cartels in bankruptcy, &nbsp;\"\n",
    "    +\" Colombians achieved peace for first time in more than 60 years...&nbsp;</mar></marquee>\", \n",
    "    align = \"center\"\n",
    "    )\n",
    "\n",
    "    side_text = pn.pane.Markdown(\n",
    "'''\n",
    "<style>\n",
    "\n",
    "body {\n",
    "    background-color: #FFFFFF;\n",
    "}\n",
    "\n",
    "mar {\n",
    "  color: #006600;\n",
    "  text-align: center;\n",
    "  font-family: \"Times New Roman\", Times, serif;\n",
    "  font-style: normal;\n",
    "  font-size: 17px;\n",
    "}\n",
    "\n",
    "#leftbox {\n",
    "    color: black;\n",
    "}\n",
    "\n",
    "bold{\n",
    "    font-weight: bold;\n",
    "    color: #003300;\n",
    "    text-align: center;\n",
    "    font-family: \"Times New Roman\", Times, serif;\n",
    "    font-style: oblique;\n",
    "    font-size: 24px;\n",
    "    font-variant: small-caps;\n",
    "}\n",
    "\n",
    "p {\n",
    "  color: #006600;\n",
    "  font-size: 17px;\n",
    "}\n",
    "\n",
    "h1 {\n",
    "    font-size: 30px;\n",
    "    font-variant: small-caps;\n",
    "    font-weight: bold;\n",
    "    font-family: Arial, Helvetica, sans-serif;\n",
    "}\n",
    "\n",
    "h2 {\n",
    "  color: #006600;\n",
    "  font-family: Arial, Helvetica, sans-serif;\n",
    "}\n",
    "\n",
    "cr {\n",
    "    font-size: 14px;\n",
    "    font-style: italic;\n",
    "    color: #33CCFF;\n",
    "}\n",
    "</style>\n",
    "            \n",
    "<div id=\"leftbox\"> \n",
    "<h1>The Correlation Heat Map</h1>\n",
    "</div>\n",
    "\n",
    "<h2> The Formula </h2>\n",
    "\n",
    "<img src= 'https://www.statisticshowto.datasciencecentral.com/wp-content/uploads/2009/11/pearsons.gif' height=\"260\" width=\"550\">\n",
    "<br><cr>Image coutresy of<a href='https://www.statisticshowto.datasciencecentral.com/probability-and-statistics/correlation-coefficient-formula/#Pearson'> Statistics How To</a></cr> \n",
    "<p> Correlation between sets of data is a measure of how well they are related. <br>\n",
    "The most common measure of correlation in stats is the Pearson Correlation. <br>\n",
    "The full name is the Pearson Product Moment Correlation (PPMC). It shows the <br>\n",
    "linear relationship between two sets of data. In simple terms, it answers the <br> \n",
    "question, Can I draw a line graph to represent the data? </p>\n",
    "''',\n",
    "        align= \"center\",\n",
    "        width_policy = \"max\",\n",
    "    )\n",
    "    \n",
    "    lower_text = pn.pane.Markdown('''\n",
    "<h2><bold>Important:</bold> Correlation does not imply causation!</h2>\n",
    "        ''',\n",
    "                                  align= \"center\",\n",
    "                                  width_policy = \"max\",\n",
    "                                 )###??????????\n",
    "    #WARNING:param.Markdown11741: Setting non-parameter attribute\n",
    "    #max_with=5 using a mechanism intended only for parameters\n",
    "    left_row = pn.Row(side_text, align=\"start\")\n",
    "    middle_row = pn.Row(corr_plot(portfolio_daily_retn),align=\"center\", width_policy=\"fit\")\n",
    "    both_row = pn.Row(left_row, middle_row)\n",
    "    \n",
    "    corr_pane = pn.Column(header_text,both_row,lower_text,align=\"center\", sizing_mode='stretch_both')\n",
    "    \n",
    "    return corr_pane\n",
    "    "
   ]
  },
  {
   "cell_type": "code",
   "execution_count": 6,
   "metadata": {},
   "outputs": [
    {
     "ename": "NameError",
     "evalue": "name 'portfolio_daily_retn' is not defined",
     "output_type": "error",
     "traceback": [
      "\u001b[1;31m---------------------------------------------------------------------------\u001b[0m",
      "\u001b[1;31mNameError\u001b[0m                                 Traceback (most recent call last)",
      "\u001b[1;32m<ipython-input-6-c8e99000e109>\u001b[0m in \u001b[0;36m<module>\u001b[1;34m\u001b[0m\n\u001b[1;32m----> 1\u001b[1;33m \u001b[0mget_corr_pane\u001b[0m\u001b[1;33m(\u001b[0m\u001b[0mportfolio_daily_retn\u001b[0m\u001b[1;33m)\u001b[0m\u001b[1;33m\u001b[0m\u001b[1;33m\u001b[0m\u001b[0m\n\u001b[0m",
      "\u001b[1;31mNameError\u001b[0m: name 'portfolio_daily_retn' is not defined"
     ]
    }
   ],
   "source": [
    "get_corr_pane(portfolio_daily_retn)"
   ]
  },
  {
   "cell_type": "code",
   "execution_count": 7,
   "metadata": {},
   "outputs": [],
   "source": [
    "def sharp_rt_plot(portfolio_daily_retn):\n",
    "    \n",
    "    title_font = {'family': 'monospace',\n",
    "            'color':  'blue',\n",
    "            'weight': 'bold',\n",
    "            'size': 15,\n",
    "            }\n",
    "    label_font = {'family': 'monospace',\n",
    "            'color':  'green',\n",
    "            'weight': 'bold',\n",
    "            'size': 12,\n",
    "            }\n",
    "   # bar_colors=[\"orange\",\"plum\",\"yellowgreen\",\"indigo\",\"wheat\",\"salmon\",\"lightblue\",\"purple\",\"gold\",\n",
    "    #           \"cornflowerblue\",\"mediumslateblue\",\"seagreen\",\"peru\"]\n",
    "    bar_colors=[\"midnightblue\",\"royalblue\",\"indigo\",\"darkcyan\",\"darkgreen\",\"maroon\",\n",
    "               \"purple\",\"darkorange\",\"slategray\",\"forestgreen\"]\n",
    "\n",
    "    sharp_ratios = portfolio_daily_retn.mean()*np.sqrt(252)/portfolio_daily_retn.std()\n",
    "    \n",
    "    sr_plot = plt.figure();\n",
    "    plt.bar(x = sharp_ratios.index, height=sharp_ratios, color=random.sample(bar_colors,len(sharp_ratios.index)))\n",
    "    plt.title(f\"Sharp Ratios of Portfolio\\n\",fontdict=title_font)\n",
    "    plt.ylabel(\"Sharp Ratio\",fontdict=label_font)\n",
    "    plt.xlabel(\"Assets\",fontdict=label_font)\n",
    "    plt.axhline(sharp_ratios.mean(), color='r')\n",
    "    \n",
    "    \n",
    "    plt.close()\n",
    "    return pn.Pane(sr_plot)"
   ]
  },
  {
   "cell_type": "code",
   "execution_count": 8,
   "metadata": {},
   "outputs": [
    {
     "ename": "NameError",
     "evalue": "name 'portfolio_daily_retn' is not defined",
     "output_type": "error",
     "traceback": [
      "\u001b[1;31m---------------------------------------------------------------------------\u001b[0m",
      "\u001b[1;31mNameError\u001b[0m                                 Traceback (most recent call last)",
      "\u001b[1;32m<ipython-input-8-b9ac64859ca8>\u001b[0m in \u001b[0;36m<module>\u001b[1;34m\u001b[0m\n\u001b[1;32m----> 1\u001b[1;33m \u001b[0mplot\u001b[0m \u001b[1;33m=\u001b[0m \u001b[0msharp_rt_plot\u001b[0m\u001b[1;33m(\u001b[0m\u001b[0mportfolio_daily_retn\u001b[0m\u001b[1;33m)\u001b[0m\u001b[1;33m\u001b[0m\u001b[1;33m\u001b[0m\u001b[0m\n\u001b[0m\u001b[0;32m      2\u001b[0m \u001b[0mplot\u001b[0m\u001b[1;33m\u001b[0m\u001b[1;33m\u001b[0m\u001b[0m\n",
      "\u001b[1;31mNameError\u001b[0m: name 'portfolio_daily_retn' is not defined"
     ]
    }
   ],
   "source": [
    "plot = sharp_rt_plot(portfolio_daily_retn)\n",
    "plot"
   ]
  },
  {
   "cell_type": "code",
   "execution_count": 9,
   "metadata": {},
   "outputs": [],
   "source": [
    "\n",
    "\n",
    "def plot_mont_carl(monte_carlo_sim):\n",
    "    plot_title = f\"Monte-Carlo Simulation of Portfolio\"\n",
    "    monte_carlo_sim_plot = monte_carlo_sim.hvplot(title=plot_title,figsize=(18,10),legend=False)\n",
    "    return monte_carlo_sim_plot"
   ]
  },
  {
   "cell_type": "code",
   "execution_count": 10,
   "metadata": {},
   "outputs": [],
   "source": [
    "def get_conf_interval(db,q=[0.05, 0.95]):\n",
    "    confidence_interval = db.iloc[-1].quantile(q=q)\n",
    "    return confidence_interval"
   ]
  },
  {
   "cell_type": "code",
   "execution_count": 11,
   "metadata": {},
   "outputs": [],
   "source": [
    "def plot_conf(values=None,conf=[0,0]):\n",
    "    bar_colors=[\"midnightblue\",\"royalblue\",\"indigo\",\"black\",\"darkcyan\",\"darkgreen\",\n",
    "               \"purple\",\"darkorange\",\"slategray\"]\n",
    "    conifidence_plot = plt.figure(figsize=(12,8));\n",
    "    #plt.plot(values,kind='hist', density=True, bins=20)\n",
    "    plt.hist(x = values,bins=20, color = random.choice(bar_colors))\n",
    "    plt.axvline(conf.iloc[0], color='r')\n",
    "    plt.axvline(conf.iloc[1], color='r')\n",
    "    plt.close()\n",
    "    return pn.Pane(conifidence_plot)"
   ]
  },
  {
   "cell_type": "markdown",
   "metadata": {},
   "source": [
    "#### **New Code for TA functions**\n",
    "_Christian_\n",
    "\n",
    "---"
   ]
  },
  {
   "cell_type": "code",
   "execution_count": 382,
   "metadata": {},
   "outputs": [],
   "source": [
    "def get_crypto_olhc(crypto_ticker, allData=False,limit = 90):\n",
    "    \"\"\"\n",
    "    Returns a dataframe with all features needed for ta lib see\n",
    "    https://technical-analysis-library-in-python.readthedocs.io/en/latest/ for more information about ta for python. \n",
    "    Arguments:\n",
    "    cryptoticker: Crypto ticker in string format.\n",
    "    allData: if True, gets all historical data available and ignores argument \"limit\".\n",
    "    By default it is False.\n",
    "    limit: the days from now to get the historical data. By default it's 90.\n",
    "    \"\"\"\n",
    "    api_key = os.getenv(\"CC_API\")\n",
    "\n",
    "    if allData:\n",
    "        url = f\"https://min-api.cryptocompare.com/data/v2/histoday?fsym={crypto_ticker}&tsym=USD&allData=true&api_key={api_key}\"\n",
    "    else:\n",
    "        url = f\"https://min-api.cryptocompare.com/data/v2/histoday?fsym={crypto_ticker}&tsym=USD&limit={limit}&api_key={api_key}\"\n",
    "\n",
    "    raw_data = mc.read_json(url)\n",
    "    crypto_df = pd.DataFrame(raw_data['Data']['Data'])\n",
    "    crypto_df['time'] = pd.to_datetime(crypto_df['time'],unit='s')\n",
    "    ta_df = add_all_ta_features(crypto_df, \"open\", \"high\", \"low\", \"close\", \"volumefrom\", fillna=True)      \n",
    "\n",
    "    return ta_df"
   ]
  },
  {
   "cell_type": "code",
   "execution_count": 383,
   "metadata": {},
   "outputs": [
    {
     "name": "stderr",
     "output_type": "stream",
     "text": [
      "C:\\Users\\cscat\\Anaconda3\\lib\\site-packages\\ta\\trend.py:170: RuntimeWarning: divide by zero encountered in double_scalars\n",
      "  dip[i] = 100 * (dip_mio[i]/trs[i])\n",
      "C:\\Users\\cscat\\Anaconda3\\lib\\site-packages\\ta\\trend.py:170: RuntimeWarning: invalid value encountered in double_scalars\n",
      "  dip[i] = 100 * (dip_mio[i]/trs[i])\n",
      "C:\\Users\\cscat\\Anaconda3\\lib\\site-packages\\ta\\trend.py:174: RuntimeWarning: divide by zero encountered in double_scalars\n",
      "  din[i] = 100 * (din_mio[i]/trs[i])\n",
      "C:\\Users\\cscat\\Anaconda3\\lib\\site-packages\\ta\\trend.py:174: RuntimeWarning: invalid value encountered in double_scalars\n",
      "  din[i] = 100 * (din_mio[i]/trs[i])\n",
      "C:\\Users\\cscat\\Anaconda3\\lib\\site-packages\\ta\\trend.py:176: RuntimeWarning: invalid value encountered in subtract\n",
      "  dx = 100 * np.abs((dip - din) / (dip + din))\n"
     ]
    }
   ],
   "source": [
    "ta_df.fillna()\n",
    "ta_df = get_crypto_olhc('ZEC', allData=False, limit=30)"
   ]
  },
  {
   "cell_type": "code",
   "execution_count": 384,
   "metadata": {},
   "outputs": [
    {
     "data": {
      "text/html": [
       "<div>\n",
       "<style scoped>\n",
       "    .dataframe tbody tr th:only-of-type {\n",
       "        vertical-align: middle;\n",
       "    }\n",
       "\n",
       "    .dataframe tbody tr th {\n",
       "        vertical-align: top;\n",
       "    }\n",
       "\n",
       "    .dataframe thead th {\n",
       "        text-align: right;\n",
       "    }\n",
       "</style>\n",
       "<table border=\"1\" class=\"dataframe\">\n",
       "  <thead>\n",
       "    <tr style=\"text-align: right;\">\n",
       "      <th></th>\n",
       "      <th>time</th>\n",
       "      <th>high</th>\n",
       "      <th>low</th>\n",
       "      <th>open</th>\n",
       "      <th>volumefrom</th>\n",
       "      <th>volumeto</th>\n",
       "      <th>close</th>\n",
       "      <th>conversionType</th>\n",
       "      <th>conversionSymbol</th>\n",
       "      <th>volume_adi</th>\n",
       "      <th>...</th>\n",
       "      <th>momentum_mfi</th>\n",
       "      <th>momentum_tsi</th>\n",
       "      <th>momentum_uo</th>\n",
       "      <th>momentum_stoch</th>\n",
       "      <th>momentum_stoch_signal</th>\n",
       "      <th>momentum_wr</th>\n",
       "      <th>momentum_ao</th>\n",
       "      <th>others_dr</th>\n",
       "      <th>others_dlr</th>\n",
       "      <th>others_cr</th>\n",
       "    </tr>\n",
       "  </thead>\n",
       "  <tbody>\n",
       "    <tr>\n",
       "      <td>0</td>\n",
       "      <td>2019-08-22</td>\n",
       "      <td>51.51</td>\n",
       "      <td>49.46</td>\n",
       "      <td>49.97</td>\n",
       "      <td>496190.40</td>\n",
       "      <td>25168083.16</td>\n",
       "      <td>50.72</td>\n",
       "      <td>multiply</td>\n",
       "      <td>BTC</td>\n",
       "      <td>65525.356455</td>\n",
       "      <td>...</td>\n",
       "      <td>100.000000</td>\n",
       "      <td>100.000000</td>\n",
       "      <td>79.830341</td>\n",
       "      <td>61.463415</td>\n",
       "      <td>61.463415</td>\n",
       "      <td>-38.536585</td>\n",
       "      <td>0.0</td>\n",
       "      <td>6.569788</td>\n",
       "      <td>0.000000</td>\n",
       "      <td>0.000000</td>\n",
       "    </tr>\n",
       "    <tr>\n",
       "      <td>1</td>\n",
       "      <td>2019-08-23</td>\n",
       "      <td>52.99</td>\n",
       "      <td>48.98</td>\n",
       "      <td>50.72</td>\n",
       "      <td>440900.01</td>\n",
       "      <td>22504697.17</td>\n",
       "      <td>51.04</td>\n",
       "      <td>multiply</td>\n",
       "      <td>BTC</td>\n",
       "      <td>125855.239844</td>\n",
       "      <td>...</td>\n",
       "      <td>100.000000</td>\n",
       "      <td>100.000000</td>\n",
       "      <td>65.433606</td>\n",
       "      <td>51.371571</td>\n",
       "      <td>56.417493</td>\n",
       "      <td>-48.628429</td>\n",
       "      <td>0.0</td>\n",
       "      <td>0.630915</td>\n",
       "      <td>0.628933</td>\n",
       "      <td>0.630915</td>\n",
       "    </tr>\n",
       "    <tr>\n",
       "      <td>2</td>\n",
       "      <td>2019-08-24</td>\n",
       "      <td>50.98</td>\n",
       "      <td>49.45</td>\n",
       "      <td>51.04</td>\n",
       "      <td>365029.80</td>\n",
       "      <td>18354956.52</td>\n",
       "      <td>50.28</td>\n",
       "      <td>multiply</td>\n",
       "      <td>BTC</td>\n",
       "      <td>43110.117912</td>\n",
       "      <td>...</td>\n",
       "      <td>72.179204</td>\n",
       "      <td>90.665942</td>\n",
       "      <td>63.222832</td>\n",
       "      <td>32.418953</td>\n",
       "      <td>48.417979</td>\n",
       "      <td>-67.581047</td>\n",
       "      <td>0.0</td>\n",
       "      <td>-1.489028</td>\n",
       "      <td>-1.500226</td>\n",
       "      <td>-0.867508</td>\n",
       "    </tr>\n",
       "    <tr>\n",
       "      <td>3</td>\n",
       "      <td>2019-08-25</td>\n",
       "      <td>51.14</td>\n",
       "      <td>50.03</td>\n",
       "      <td>50.28</td>\n",
       "      <td>366013.73</td>\n",
       "      <td>18378209.76</td>\n",
       "      <td>50.21</td>\n",
       "      <td>multiply</td>\n",
       "      <td>BTC</td>\n",
       "      <td>-216290.970403</td>\n",
       "      <td>...</td>\n",
       "      <td>56.381282</td>\n",
       "      <td>85.425182</td>\n",
       "      <td>58.312843</td>\n",
       "      <td>30.673317</td>\n",
       "      <td>38.154613</td>\n",
       "      <td>-69.326683</td>\n",
       "      <td>0.0</td>\n",
       "      <td>-0.139220</td>\n",
       "      <td>-0.139317</td>\n",
       "      <td>-1.005521</td>\n",
       "    </tr>\n",
       "    <tr>\n",
       "      <td>4</td>\n",
       "      <td>2019-08-26</td>\n",
       "      <td>53.16</td>\n",
       "      <td>50.10</td>\n",
       "      <td>50.21</td>\n",
       "      <td>586419.36</td>\n",
       "      <td>30232886.66</td>\n",
       "      <td>51.56</td>\n",
       "      <td>multiply</td>\n",
       "      <td>BTC</td>\n",
       "      <td>-274136.218246</td>\n",
       "      <td>...</td>\n",
       "      <td>67.895282</td>\n",
       "      <td>82.926659</td>\n",
       "      <td>55.942869</td>\n",
       "      <td>61.722488</td>\n",
       "      <td>41.604919</td>\n",
       "      <td>-38.277512</td>\n",
       "      <td>0.0</td>\n",
       "      <td>2.688707</td>\n",
       "      <td>2.653197</td>\n",
       "      <td>1.656151</td>\n",
       "    </tr>\n",
       "  </tbody>\n",
       "</table>\n",
       "<p>5 rows × 67 columns</p>\n",
       "</div>"
      ],
      "text/plain": [
       "        time   high    low   open  volumefrom     volumeto  close  \\\n",
       "0 2019-08-22  51.51  49.46  49.97   496190.40  25168083.16  50.72   \n",
       "1 2019-08-23  52.99  48.98  50.72   440900.01  22504697.17  51.04   \n",
       "2 2019-08-24  50.98  49.45  51.04   365029.80  18354956.52  50.28   \n",
       "3 2019-08-25  51.14  50.03  50.28   366013.73  18378209.76  50.21   \n",
       "4 2019-08-26  53.16  50.10  50.21   586419.36  30232886.66  51.56   \n",
       "\n",
       "  conversionType conversionSymbol     volume_adi  ...  momentum_mfi  \\\n",
       "0       multiply              BTC   65525.356455  ...    100.000000   \n",
       "1       multiply              BTC  125855.239844  ...    100.000000   \n",
       "2       multiply              BTC   43110.117912  ...     72.179204   \n",
       "3       multiply              BTC -216290.970403  ...     56.381282   \n",
       "4       multiply              BTC -274136.218246  ...     67.895282   \n",
       "\n",
       "   momentum_tsi  momentum_uo  momentum_stoch  momentum_stoch_signal  \\\n",
       "0    100.000000    79.830341       61.463415              61.463415   \n",
       "1    100.000000    65.433606       51.371571              56.417493   \n",
       "2     90.665942    63.222832       32.418953              48.417979   \n",
       "3     85.425182    58.312843       30.673317              38.154613   \n",
       "4     82.926659    55.942869       61.722488              41.604919   \n",
       "\n",
       "   momentum_wr  momentum_ao  others_dr  others_dlr  others_cr  \n",
       "0   -38.536585          0.0   6.569788    0.000000   0.000000  \n",
       "1   -48.628429          0.0   0.630915    0.628933   0.630915  \n",
       "2   -67.581047          0.0  -1.489028   -1.500226  -0.867508  \n",
       "3   -69.326683          0.0  -0.139220   -0.139317  -1.005521  \n",
       "4   -38.277512          0.0   2.688707    2.653197   1.656151  \n",
       "\n",
       "[5 rows x 67 columns]"
      ]
     },
     "execution_count": 384,
     "metadata": {},
     "output_type": "execute_result"
    }
   ],
   "source": [
    "ta_df.head()"
   ]
  },
  {
   "cell_type": "code",
   "execution_count": 385,
   "metadata": {},
   "outputs": [],
   "source": [
    "def bb_plot(df):\n",
    "    bb_plot = plt.figure(figsize=(12,8));\n",
    "    plt.plot(df.close)\n",
    "    plt.plot(df.volatility_bbh, label='High BB')\n",
    "    plt.plot(df.volatility_bbl, label='Low BB')\n",
    "    plt.plot(df.volatility_bbm, label='EMA BB')\n",
    "    plt.title('Bollinger Bands')\n",
    "    plt.legend()\n",
    "    plt.close()\n",
    "    return pn.Pane(bb_plot)"
   ]
  },
  {
   "cell_type": "code",
   "execution_count": 386,
   "metadata": {},
   "outputs": [],
   "source": [
    "def ichi_plot(df):\n",
    "    ichi_plot = plt.figure(figsize=(12,8));\n",
    "    plt.plot(df.close)\n",
    "    plt.plot(df.trend_ichimoku_a, label='Ichimoku a')\n",
    "    plt.plot(df.trend_ichimoku_b, label='Ichimoku b')\n",
    "    plt.title('Ichimoku Kinko Hyo')\n",
    "    plt.legend()\n",
    "    plt.close()\n",
    "    return pn.Pane(ichi_plot)"
   ]
  },
  {
   "cell_type": "code",
   "execution_count": 387,
   "metadata": {},
   "outputs": [],
   "source": [
    "def ema_plot(df):\n",
    "    ema_plot = plt.figure(figsize=(12,8));\n",
    "    plt.plot(df.close)\n",
    "    plt.plot(df.volatility_bbm, label='EMA BB')\n",
    "    plt.title('Exponential Moving Average')\n",
    "    plt.legend()\n",
    "    plt.close()\n",
    "    return pn.Pane(ema_plot)"
   ]
  },
  {
   "cell_type": "code",
   "execution_count": 388,
   "metadata": {},
   "outputs": [],
   "source": [
    "def macd_plot(df):\n",
    "    macd_plot = plt.figure(figsize=(12,8));\n",
    "    plt.plot(df.trend_macd, label='MACD');\n",
    "    plt.plot(df.trend_macd_signal, label='MACD Signal')\n",
    "    plt.plot(df.trend_macd_diff, label='MACD Difference')\n",
    "    plt.title('MACD, MACD Signal and MACD Difference')\n",
    "    plt.legend()\n",
    "    plt.close()\n",
    "    return pn.Pane(macd_plot)"
   ]
  },
  {
   "cell_type": "markdown",
   "metadata": {},
   "source": [
    "#### End New Code for TA\n",
    "\n",
    "---"
   ]
  },
  {
   "cell_type": "markdown",
   "metadata": {},
   "source": [
    "# DASHBOARD TIME!!!"
   ]
  },
  {
   "cell_type": "code",
   "execution_count": 389,
   "metadata": {},
   "outputs": [],
   "source": [
    "#print(portfolio_hist_prices.head())"
   ]
  },
  {
   "cell_type": "code",
   "execution_count": 390,
   "metadata": {},
   "outputs": [],
   "source": [
    "portfolio_hist_prices = portfolio_hist_prices[(portfolio_hist_prices[portfolio_hist_prices.columns] != 0).all(axis=1)]\n",
    "#portfolio_hist_prices.any()\n",
    "#portfolio_hist_prices.head()"
   ]
  },
  {
   "cell_type": "code",
   "execution_count": 391,
   "metadata": {},
   "outputs": [],
   "source": [
    "mc_sim = mc.monte_carlo_sim(portfolio_hist_prices,trials = 50)"
   ]
  },
  {
   "cell_type": "code",
   "execution_count": 392,
   "metadata": {},
   "outputs": [],
   "source": [
    "risk_tabs = pn.Tabs(\n",
    "    (\"Correlation of portfolio\",get_corr_pane(portfolio_daily_retn)),\n",
    "    (\"Sharp Ratios\", sharp_rt_plot(portfolio_daily_retn)),\n",
    "#    background=\"whitesmoke\"\n",
    ")"
   ]
  },
  {
   "cell_type": "code",
   "execution_count": 393,
   "metadata": {},
   "outputs": [],
   "source": [
    "montecarlo_tabs = pn.Tabs(\n",
    "    (\"monte Carlo Simulation\",plot_mont_carl(mc_sim)),\n",
    "    (\"Confidence Intervals\", plot_conf(mc_sim.iloc[-1],get_conf_interval(mc_sim))),\n",
    "#    background=\"whitesmoke\"\n",
    ")"
   ]
  },
  {
   "cell_type": "code",
   "execution_count": 394,
   "metadata": {},
   "outputs": [],
   "source": [
    "techl_analysis_tabs = pn.Tabs(\n",
    "    (\"Exp. Moving Avg.\",ema_plot(ta_df)),\n",
    "    (\"Bollinger Bands\", bb_plot(ta_df)),\n",
    "    (\"MACD\",macd_plot(ta_df)),\n",
    "    (\"Ichimoku Kinkō Hyō\", ichi_plot(ta_df)),\n",
    "#    background=\"whitesmoke\"\n",
    ")"
   ]
  },
  {
   "cell_type": "code",
   "execution_count": 395,
   "metadata": {},
   "outputs": [],
   "source": [
    "tabs = pn.Tabs(\n",
    "    (\"Risk\",risk_tabs),\n",
    "    (\"Monte Carlo Simulation\", montecarlo_tabs),\n",
    "    (\"Tecnical Analysis\", techl_analysis_tabs),\n",
    "    (\"Report\", \"in construction\"),\n",
    "    tabs_location = \"left\",\n",
    "    align = \"start\"\n",
    ")\n",
    "  "
   ]
  },
  {
   "cell_type": "code",
   "execution_count": 396,
   "metadata": {},
   "outputs": [
    {
     "data": {
      "text/plain": [
       "<bokeh.server.server.Server at 0x1ae07514208>"
      ]
     },
     "execution_count": 396,
     "metadata": {},
     "output_type": "execute_result"
    }
   ],
   "source": [
    "  \n",
    "panel = tabs\n",
    "\n",
    "panel.show()"
   ]
  },
  {
   "cell_type": "code",
   "execution_count": null,
   "metadata": {},
   "outputs": [],
   "source": []
  },
  {
   "cell_type": "code",
   "execution_count": null,
   "metadata": {},
   "outputs": [],
   "source": []
  }
 ],
 "metadata": {
  "kernelspec": {
   "display_name": "Python 3",
   "language": "python",
   "name": "python3"
  },
  "language_info": {
   "codemirror_mode": {
    "name": "ipython",
    "version": 3
   },
   "file_extension": ".py",
   "mimetype": "text/x-python",
   "name": "python",
   "nbconvert_exporter": "python",
   "pygments_lexer": "ipython3",
   "version": "3.7.3"
  }
 },
 "nbformat": 4,
 "nbformat_minor": 4
}
