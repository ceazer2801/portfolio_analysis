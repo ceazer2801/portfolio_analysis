{
 "cells": [
  {
   "cell_type": "code",
   "execution_count": 17,
   "metadata": {},
   "outputs": [],
   "source": [
    "import pandas as pd\n",
    "import numpy as np\n",
    "from path import Path\n",
    "\n",
    "\n",
    "def get_model_portfolio_sharpe_ratios():\n",
    "\n",
    "    conservative_filepath = Path(\"../model_data/Conservative_portfolio/Resources/conservative_hist_daily_returns.csv\")\n",
    "    balanced_filepath = Path(\"../model_data/Balanced_portfolio/Resources/balanced_hist_daily_returns.csv\")\n",
    "    aggressive_filepath = Path(\"../model_data/Aggressive_portfolio/Resources/aggressive_hist_daily_returns.csv\")\n",
    "    \n",
    "    conservative_hist_returns = pd.read_csv(conservative_filepath)\n",
    "    balanced_hist_returns = pd.read_csv(balanced_filepath)\n",
    "    aggressive_hist_returns = pd.read_csv(aggressive_filepath)\n",
    "    \n",
    "    conservative_sharpe_ratios = conservative_hist_returns.mean()*np.sqrt(252)/conservative_hist_returns.std()\n",
    "    balanced_sharpe_ratios = balanced_hist_returns.mean()*np.sqrt(252)/balanced_hist_returns.std()\n",
    "    aggressive_sharpe_ratios = aggressive_hist_returns.mean()*np.sqrt(252)/aggressive_hist_returns.std()\n",
    "    \n",
    "    conservative_sharpe_ratios_db = pd.DataFrame(conservative_sharpe_ratios)\n",
    "    conservative_sharpe_ratios_db.rename(columns = {0:'std'}, inplace = True)\n",
    "    balanced_sharpe_ratios_db = pd.DataFrame(balanced_sharpe_ratios)\n",
    "    balanced_sharpe_ratios_db.rename(columns = {0:'std'}, inplace = True)\n",
    "    aggressive_sharpe_ratios_db = pd.DataFrame(aggressive_sharpe_ratios)\n",
    "    aggressive_sharpe_ratios_db.rename(columns = {0:'std'}, inplace = True)\n",
    "    \n",
    "    conservative_weights = [0.098,0.02,0.06,0.018,0.213,0.11,0.104,0.122,0.235,0.02]\n",
    "    conservative_overall_sharpe_ratio = conservative_sharpe_ratios_db.multiply(conservative_weights, axis = 0)\n",
    "    balanced_weights = [0.244, .05, 0.151,0.045,0.133,0.069,0.065,0.076,0.147,0.02]\n",
    "    balanced_overall_sharpe_ratio = balanced_sharpe_ratios_db.multiply(balanced_weights, axis = 0)\n",
    "    aggressive_weights = [0.39,0.08,0.241,0.073,0.053,0.028,0.026,0.03,0.059,0.02]\n",
    "    aggressive_overall_sharpe_ratio = aggressive_sharpe_ratios_db.multiply(aggressive_weights, axis = 0)\n",
    "    \n",
    "    conservative_overall_sharpe_ratio = conservative_overall_sharpe_ratio.sum()\n",
    "    balanced_overall_sharpe_ratio = balanced_overall_sharpe_ratio.sum()\n",
    "    aggressive_overall_sharpe_ratio = aggressive_overall_sharpe_ratio.sum()\n",
    "\n",
    "    conservative_overall_sharpe_ratio = conservative_overall_sharpe_ratio[0]\n",
    "    balanced_overall_sharpe_ratio = balanced_overall_sharpe_ratio[0]\n",
    "    aggressive_overall_sharpe_ratio = aggressive_overall_sharpe_ratio[0]\n",
    "    \n",
    "    return conservative_overall_sharpe_ratio, balanced_overall_sharpe_ratio, aggressive_overall_sharpe_ratio\n",
    "\n",
    "    "
   ]
  },
  {
   "cell_type": "code",
   "execution_count": 18,
   "metadata": {},
   "outputs": [],
   "source": [
    "conservative_sharpe, balanced_sharpe, aggressive_sharpe = get_model_portfolio_sharpe_ratios()"
   ]
  },
  {
   "cell_type": "code",
   "execution_count": 19,
   "metadata": {},
   "outputs": [
    {
     "data": {
      "text/plain": [
       "0.3718179001521729"
      ]
     },
     "execution_count": 19,
     "metadata": {},
     "output_type": "execute_result"
    }
   ],
   "source": [
    "conservative_sharpe"
   ]
  },
  {
   "cell_type": "code",
   "execution_count": 20,
   "metadata": {},
   "outputs": [
    {
     "data": {
      "text/plain": [
       "0.3900679903428035"
      ]
     },
     "execution_count": 20,
     "metadata": {},
     "output_type": "execute_result"
    }
   ],
   "source": [
    "balanced_sharpe"
   ]
  },
  {
   "cell_type": "code",
   "execution_count": 21,
   "metadata": {},
   "outputs": [
    {
     "data": {
      "text/plain": [
       "0.4082655763558694"
      ]
     },
     "execution_count": 21,
     "metadata": {},
     "output_type": "execute_result"
    }
   ],
   "source": [
    "aggressive_sharpe"
   ]
  },
  {
   "cell_type": "code",
   "execution_count": null,
   "metadata": {},
   "outputs": [],
   "source": []
  }
 ],
 "metadata": {
  "kernelspec": {
   "display_name": "Python 3",
   "language": "python",
   "name": "python3"
  },
  "language_info": {
   "codemirror_mode": {
    "name": "ipython",
    "version": 3
   },
   "file_extension": ".py",
   "mimetype": "text/x-python",
   "name": "python",
   "nbconvert_exporter": "python",
   "pygments_lexer": "ipython3",
   "version": "3.7.3"
  }
 },
 "nbformat": 4,
 "nbformat_minor": 4
}
